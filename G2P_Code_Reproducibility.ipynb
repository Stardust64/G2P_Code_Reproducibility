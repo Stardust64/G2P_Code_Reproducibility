{
  "nbformat": 4,
  "nbformat_minor": 0,
  "metadata": {
    "colab": {
      "name": "G2P_Code_Reproducibility",
      "provenance": [],
      "include_colab_link": true
    },
    "kernelspec": {
      "name": "python3",
      "display_name": "Python 3"
    }
  },
  "cells": [
    {
      "cell_type": "markdown",
      "metadata": {
        "id": "view-in-github",
        "colab_type": "text"
      },
      "source": [
        "<a href=\"https://colab.research.google.com/github/Stardust64/G2P_Code_Reproducibility/blob/main/G2P_Code_Reproducibility.ipynb\" target=\"_parent\"><img src=\"https://colab.research.google.com/assets/colab-badge.svg\" alt=\"Open In Colab\"/></a>"
      ]
    },
    {
      "cell_type": "markdown",
      "metadata": {
        "id": "f2zyUHE7OsDc"
      },
      "source": [
        "# G2P_Code_Reproducibility\n",
        "\n",
        "Ported to Python by Joy-El Talbot\n",
        "\n",
        "From the R code by Kayla Barton\n",
        "\n",
        "2020-10-14"
      ]
    },
    {
      "cell_type": "markdown",
      "metadata": {
        "id": "aZLM2i3fWVb-"
      },
      "source": [
        "## 1. What is a Jupyter notebook?\n",
        "\n",
        "This is a Jupyter notebook document. Much like R Markdown files, it let's you combine exposition with your code for an easier to understand analysis summary.\n",
        "\n",
        "The notebook uses \"cells\" that contain information processed in different ways. Markdown or Text cells use special code to add formatting to text. Meanwhile, the code cells are evaluated by the Python interprettor just as any python code would be. The results of these code cells are printed below the code cell.\n",
        "\n",
        "### And what about Google Colab?\n",
        "\n",
        "Google Colab is a new space that let's you run Jupyter-style python notebooks in the cloud. These have sharing and commenting features similar to those you may already be used to from using Google Docs or Sheets."
      ]
    },
    {
      "cell_type": "markdown",
      "metadata": {
        "id": "X-hPyGh3XWip"
      },
      "source": [
        "## 2. Analyzing count data"
      ]
    },
    {
      "cell_type": "markdown",
      "metadata": {
        "id": "sRq8tAuqXhYc"
      },
      "source": [
        "### a) Prepare libraries and get dataset\n",
        "Load needed libraries"
      ]
    },
    {
      "cell_type": "code",
      "metadata": {
        "id": "c3akj8u1XlQX"
      },
      "source": [
        "import pandas as pd  # Provides dataframe functionality similar to R's data.frame objects\n",
        "from matplotlib import pyplot as plt\n",
        "from numpy import log2 as log2"
      ],
      "execution_count": null,
      "outputs": []
    },
    {
      "cell_type": "markdown",
      "metadata": {
        "id": "KIHzYvwZYXlQ"
      },
      "source": [
        "### b) Read in counts file from github!\n",
        "If you want to do this with your own files on github make sure to get the url from the raw file. (click 'view raw' on desired file in github, the url should say https://raw.github instead of https://github)\n"
      ]
    },
    {
      "cell_type": "code",
      "metadata": {
        "id": "mDSoZHLdYP3o"
      },
      "source": [
        "raw_count_data = pd.read_csv(\"https://raw.githubusercontent.com/Stardust64/G2P_Code_Reproducibility/main/counts_all_samples.csv\")"
      ],
      "execution_count": null,
      "outputs": []
    },
    {
      "cell_type": "markdown",
      "metadata": {
        "id": "u5bnPXgAYthh"
      },
      "source": [
        "### c) Check and fix matrix\n",
        "\n",
        "Check column labels to make sure they are correct, then check first row to make sure it looks okay. (There should be 17 columns in total: V1, alb_dex_rep1_511_counts, alb_dex_rep2_515_counts, alb_dex_rep3_519_counts, alb_dex_rep4_523_counts, alb_rep1_510_counts, alb_rep2_514_counts, alb_rep3_518_counts, alb_rep4_522_counts, dex_rep1_509_counts, dex_rep2_513_counts, dex_rep3_517_counts, dex_rep4_521_counts, untreated_rep1_508_counts, untreated_rep2_512_counts, untreated_rep3_516_counts, and untreated_rep4_520_counts) "
      ]
    },
    {
      "cell_type": "code",
      "metadata": {
        "id": "tseNNLdFYYW2",
        "outputId": "dad8f635-3475-40f2-8aec-ba2a0daeda2a",
        "colab": {
          "base_uri": "https://localhost:8080/",
          "height": 532
        }
      },
      "source": [
        "# check the column names & their data types\n",
        "print(raw_count_data.dtypes)\n",
        "\n",
        "# view a sample of the data\n",
        "raw_count_data.head()"
      ],
      "execution_count": null,
      "outputs": [
        {
          "output_type": "stream",
          "text": [
            "V1                           object\n",
            "alb_dex_rep1_511_counts       int64\n",
            "alb_dex_rep2_515_counts       int64\n",
            "alb_dex_rep3_519_counts       int64\n",
            "alb_dex_rep4_523_counts       int64\n",
            "alb_rep1_510_counts           int64\n",
            "alb_rep2_514_counts           int64\n",
            "alb_rep3_518_counts           int64\n",
            "alb_rep4_522_counts           int64\n",
            "dex_rep1_509_counts           int64\n",
            "dex_rep2_513_counts           int64\n",
            "dex_rep3_517_counts           int64\n",
            "dex_rep4_521_counts           int64\n",
            "untreated_rep1_508_counts     int64\n",
            "untreated_rep2_512_counts     int64\n",
            "untreated_rep3_516_counts     int64\n",
            "untreated_rep4_520_counts     int64\n",
            "dtype: object\n"
          ],
          "name": "stdout"
        },
        {
          "output_type": "execute_result",
          "data": {
            "text/html": [
              "<div>\n",
              "<style scoped>\n",
              "    .dataframe tbody tr th:only-of-type {\n",
              "        vertical-align: middle;\n",
              "    }\n",
              "\n",
              "    .dataframe tbody tr th {\n",
              "        vertical-align: top;\n",
              "    }\n",
              "\n",
              "    .dataframe thead th {\n",
              "        text-align: right;\n",
              "    }\n",
              "</style>\n",
              "<table border=\"1\" class=\"dataframe\">\n",
              "  <thead>\n",
              "    <tr style=\"text-align: right;\">\n",
              "      <th></th>\n",
              "      <th>V1</th>\n",
              "      <th>alb_dex_rep1_511_counts</th>\n",
              "      <th>alb_dex_rep2_515_counts</th>\n",
              "      <th>alb_dex_rep3_519_counts</th>\n",
              "      <th>alb_dex_rep4_523_counts</th>\n",
              "      <th>alb_rep1_510_counts</th>\n",
              "      <th>alb_rep2_514_counts</th>\n",
              "      <th>alb_rep3_518_counts</th>\n",
              "      <th>alb_rep4_522_counts</th>\n",
              "      <th>dex_rep1_509_counts</th>\n",
              "      <th>dex_rep2_513_counts</th>\n",
              "      <th>dex_rep3_517_counts</th>\n",
              "      <th>dex_rep4_521_counts</th>\n",
              "      <th>untreated_rep1_508_counts</th>\n",
              "      <th>untreated_rep2_512_counts</th>\n",
              "      <th>untreated_rep3_516_counts</th>\n",
              "      <th>untreated_rep4_520_counts</th>\n",
              "    </tr>\n",
              "  </thead>\n",
              "  <tbody>\n",
              "    <tr>\n",
              "      <th>0</th>\n",
              "      <td>ENSG00000000003</td>\n",
              "      <td>916</td>\n",
              "      <td>1725</td>\n",
              "      <td>2237</td>\n",
              "      <td>1686</td>\n",
              "      <td>1486</td>\n",
              "      <td>1948</td>\n",
              "      <td>2178</td>\n",
              "      <td>2225</td>\n",
              "      <td>914</td>\n",
              "      <td>819</td>\n",
              "      <td>2074</td>\n",
              "      <td>1165</td>\n",
              "      <td>1379</td>\n",
              "      <td>1755</td>\n",
              "      <td>2305</td>\n",
              "      <td>1563</td>\n",
              "    </tr>\n",
              "    <tr>\n",
              "      <th>1</th>\n",
              "      <td>ENSG00000000005</td>\n",
              "      <td>0</td>\n",
              "      <td>0</td>\n",
              "      <td>0</td>\n",
              "      <td>0</td>\n",
              "      <td>0</td>\n",
              "      <td>1</td>\n",
              "      <td>1</td>\n",
              "      <td>0</td>\n",
              "      <td>0</td>\n",
              "      <td>0</td>\n",
              "      <td>0</td>\n",
              "      <td>0</td>\n",
              "      <td>0</td>\n",
              "      <td>0</td>\n",
              "      <td>0</td>\n",
              "      <td>0</td>\n",
              "    </tr>\n",
              "    <tr>\n",
              "      <th>2</th>\n",
              "      <td>ENSG00000000419</td>\n",
              "      <td>1001</td>\n",
              "      <td>823</td>\n",
              "      <td>911</td>\n",
              "      <td>1223</td>\n",
              "      <td>874</td>\n",
              "      <td>1568</td>\n",
              "      <td>1295</td>\n",
              "      <td>959</td>\n",
              "      <td>981</td>\n",
              "      <td>657</td>\n",
              "      <td>1413</td>\n",
              "      <td>907</td>\n",
              "      <td>889</td>\n",
              "      <td>1116</td>\n",
              "      <td>1035</td>\n",
              "      <td>754</td>\n",
              "    </tr>\n",
              "    <tr>\n",
              "      <th>3</th>\n",
              "      <td>ENSG00000000457</td>\n",
              "      <td>449</td>\n",
              "      <td>433</td>\n",
              "      <td>402</td>\n",
              "      <td>550</td>\n",
              "      <td>459</td>\n",
              "      <td>664</td>\n",
              "      <td>569</td>\n",
              "      <td>508</td>\n",
              "      <td>417</td>\n",
              "      <td>327</td>\n",
              "      <td>662</td>\n",
              "      <td>449</td>\n",
              "      <td>505</td>\n",
              "      <td>537</td>\n",
              "      <td>493</td>\n",
              "      <td>464</td>\n",
              "    </tr>\n",
              "    <tr>\n",
              "      <th>4</th>\n",
              "      <td>ENSG00000000460</td>\n",
              "      <td>113</td>\n",
              "      <td>98</td>\n",
              "      <td>127</td>\n",
              "      <td>173</td>\n",
              "      <td>174</td>\n",
              "      <td>177</td>\n",
              "      <td>135</td>\n",
              "      <td>158</td>\n",
              "      <td>103</td>\n",
              "      <td>64</td>\n",
              "      <td>124</td>\n",
              "      <td>121</td>\n",
              "      <td>122</td>\n",
              "      <td>82</td>\n",
              "      <td>148</td>\n",
              "      <td>139</td>\n",
              "    </tr>\n",
              "  </tbody>\n",
              "</table>\n",
              "</div>"
            ],
            "text/plain": [
              "                V1  ...  untreated_rep4_520_counts\n",
              "0  ENSG00000000003  ...                       1563\n",
              "1  ENSG00000000005  ...                          0\n",
              "2  ENSG00000000419  ...                        754\n",
              "3  ENSG00000000457  ...                        464\n",
              "4  ENSG00000000460  ...                        139\n",
              "\n",
              "[5 rows x 17 columns]"
            ]
          },
          "metadata": {
            "tags": []
          },
          "execution_count": 67
        }
      ]
    },
    {
      "cell_type": "markdown",
      "metadata": {
        "id": "bjcuIseoZFh9"
      },
      "source": [
        "Construct a new matrix so that geneIDs are used as row labels (aka index), then check row again to see if it worked. "
      ]
    },
    {
      "cell_type": "code",
      "metadata": {
        "id": "PjGmsYvTkB0I",
        "outputId": "fed58b48-7227-4bfd-bcc3-c166cd07fa03",
        "colab": {
          "base_uri": "https://localhost:8080/",
          "height": 245
        }
      },
      "source": [
        "count_data = raw_count_data.rename(columns={\"V1\":\"geneIDs\"})\n",
        "count_data.set_index(\"geneIDs\", inplace=True)  # must add \"inplace=True\" argument to overwrite existing count_data\n",
        "count_data.head()"
      ],
      "execution_count": null,
      "outputs": [
        {
          "output_type": "execute_result",
          "data": {
            "text/html": [
              "<div>\n",
              "<style scoped>\n",
              "    .dataframe tbody tr th:only-of-type {\n",
              "        vertical-align: middle;\n",
              "    }\n",
              "\n",
              "    .dataframe tbody tr th {\n",
              "        vertical-align: top;\n",
              "    }\n",
              "\n",
              "    .dataframe thead th {\n",
              "        text-align: right;\n",
              "    }\n",
              "</style>\n",
              "<table border=\"1\" class=\"dataframe\">\n",
              "  <thead>\n",
              "    <tr style=\"text-align: right;\">\n",
              "      <th></th>\n",
              "      <th>alb_dex_rep1_511_counts</th>\n",
              "      <th>alb_dex_rep2_515_counts</th>\n",
              "      <th>alb_dex_rep3_519_counts</th>\n",
              "      <th>alb_dex_rep4_523_counts</th>\n",
              "      <th>alb_rep1_510_counts</th>\n",
              "      <th>alb_rep2_514_counts</th>\n",
              "      <th>alb_rep3_518_counts</th>\n",
              "      <th>alb_rep4_522_counts</th>\n",
              "      <th>dex_rep1_509_counts</th>\n",
              "      <th>dex_rep2_513_counts</th>\n",
              "      <th>dex_rep3_517_counts</th>\n",
              "      <th>dex_rep4_521_counts</th>\n",
              "      <th>untreated_rep1_508_counts</th>\n",
              "      <th>untreated_rep2_512_counts</th>\n",
              "      <th>untreated_rep3_516_counts</th>\n",
              "      <th>untreated_rep4_520_counts</th>\n",
              "    </tr>\n",
              "    <tr>\n",
              "      <th>geneIDs</th>\n",
              "      <th></th>\n",
              "      <th></th>\n",
              "      <th></th>\n",
              "      <th></th>\n",
              "      <th></th>\n",
              "      <th></th>\n",
              "      <th></th>\n",
              "      <th></th>\n",
              "      <th></th>\n",
              "      <th></th>\n",
              "      <th></th>\n",
              "      <th></th>\n",
              "      <th></th>\n",
              "      <th></th>\n",
              "      <th></th>\n",
              "      <th></th>\n",
              "    </tr>\n",
              "  </thead>\n",
              "  <tbody>\n",
              "    <tr>\n",
              "      <th>ENSG00000000003</th>\n",
              "      <td>916</td>\n",
              "      <td>1725</td>\n",
              "      <td>2237</td>\n",
              "      <td>1686</td>\n",
              "      <td>1486</td>\n",
              "      <td>1948</td>\n",
              "      <td>2178</td>\n",
              "      <td>2225</td>\n",
              "      <td>914</td>\n",
              "      <td>819</td>\n",
              "      <td>2074</td>\n",
              "      <td>1165</td>\n",
              "      <td>1379</td>\n",
              "      <td>1755</td>\n",
              "      <td>2305</td>\n",
              "      <td>1563</td>\n",
              "    </tr>\n",
              "    <tr>\n",
              "      <th>ENSG00000000005</th>\n",
              "      <td>0</td>\n",
              "      <td>0</td>\n",
              "      <td>0</td>\n",
              "      <td>0</td>\n",
              "      <td>0</td>\n",
              "      <td>1</td>\n",
              "      <td>1</td>\n",
              "      <td>0</td>\n",
              "      <td>0</td>\n",
              "      <td>0</td>\n",
              "      <td>0</td>\n",
              "      <td>0</td>\n",
              "      <td>0</td>\n",
              "      <td>0</td>\n",
              "      <td>0</td>\n",
              "      <td>0</td>\n",
              "    </tr>\n",
              "    <tr>\n",
              "      <th>ENSG00000000419</th>\n",
              "      <td>1001</td>\n",
              "      <td>823</td>\n",
              "      <td>911</td>\n",
              "      <td>1223</td>\n",
              "      <td>874</td>\n",
              "      <td>1568</td>\n",
              "      <td>1295</td>\n",
              "      <td>959</td>\n",
              "      <td>981</td>\n",
              "      <td>657</td>\n",
              "      <td>1413</td>\n",
              "      <td>907</td>\n",
              "      <td>889</td>\n",
              "      <td>1116</td>\n",
              "      <td>1035</td>\n",
              "      <td>754</td>\n",
              "    </tr>\n",
              "    <tr>\n",
              "      <th>ENSG00000000457</th>\n",
              "      <td>449</td>\n",
              "      <td>433</td>\n",
              "      <td>402</td>\n",
              "      <td>550</td>\n",
              "      <td>459</td>\n",
              "      <td>664</td>\n",
              "      <td>569</td>\n",
              "      <td>508</td>\n",
              "      <td>417</td>\n",
              "      <td>327</td>\n",
              "      <td>662</td>\n",
              "      <td>449</td>\n",
              "      <td>505</td>\n",
              "      <td>537</td>\n",
              "      <td>493</td>\n",
              "      <td>464</td>\n",
              "    </tr>\n",
              "    <tr>\n",
              "      <th>ENSG00000000460</th>\n",
              "      <td>113</td>\n",
              "      <td>98</td>\n",
              "      <td>127</td>\n",
              "      <td>173</td>\n",
              "      <td>174</td>\n",
              "      <td>177</td>\n",
              "      <td>135</td>\n",
              "      <td>158</td>\n",
              "      <td>103</td>\n",
              "      <td>64</td>\n",
              "      <td>124</td>\n",
              "      <td>121</td>\n",
              "      <td>122</td>\n",
              "      <td>82</td>\n",
              "      <td>148</td>\n",
              "      <td>139</td>\n",
              "    </tr>\n",
              "  </tbody>\n",
              "</table>\n",
              "</div>"
            ],
            "text/plain": [
              "                 alb_dex_rep1_511_counts  ...  untreated_rep4_520_counts\n",
              "geneIDs                                   ...                           \n",
              "ENSG00000000003                      916  ...                       1563\n",
              "ENSG00000000005                        0  ...                          0\n",
              "ENSG00000000419                     1001  ...                        754\n",
              "ENSG00000000457                      449  ...                        464\n",
              "ENSG00000000460                      113  ...                        139\n",
              "\n",
              "[5 rows x 16 columns]"
            ]
          },
          "metadata": {
            "tags": []
          },
          "execution_count": 69
        }
      ]
    },
    {
      "cell_type": "markdown",
      "metadata": {
        "id": "cAWzVai1kq-p"
      },
      "source": [
        "### d) Boxplot of counts\n",
        "\n",
        "Now let's make a Boxplot! (Added 1 to all filtered counts to avoid log2(0))\n"
      ]
    },
    {
      "cell_type": "code",
      "metadata": {
        "id": "_L19eZv4k_J9",
        "outputId": "2d58b080-e537-4974-ec8b-022f7767b79e",
        "colab": {
          "base_uri": "https://localhost:8080/",
          "height": 411
        }
      },
      "source": [
        "df_plot = log2(count_data + 1)\n",
        "df_plot.boxplot()\n",
        "plt.title(\"Filterd RNA-Seq Counts\")\n",
        "plt.ylabel(\"log2(Counts+1)\")\n",
        "plt.xticks(rotation=90)\n",
        "plt.show()  # in base-python script, forces plot to show; here it hides additional behind-the-scenes text"
      ],
      "execution_count": null,
      "outputs": [
        {
          "output_type": "display_data",
          "data": {
            "image/png": "[encoded data removed]",
            "text/plain": [
              "<Figure size 432x288 with 1 Axes>"
            ]
          },
          "metadata": {
            "tags": [],
            "needs_background": "light"
          }
        }
      ]
    },
    {
      "cell_type": "markdown",
      "metadata": {
        "id": "etyJZwUEs51-"
      },
      "source": [
        "Whats wrong with this boxplot? \n",
        "\n",
        "\n",
        "Lets clean it up a bit by filtering out lowly expressed genes!  "
      ]
    },
    {
      "cell_type": "markdown",
      "metadata": {
        "id": "AP9FBemwtJSX"
      },
      "source": [
        "### e) Make DGEList and Filter out Lowly Expressed Genes\n",
        "\n",
        "Create Differential Gene Expression (DGE) List using filtered counts. "
      ]
    },
    {
      "cell_type": "markdown",
      "metadata": {
        "id": "kz3qJJxBwYc4"
      },
      "source": [
        "While Python does not have the EdgeR library, depending on what you want to do there may be many ways to work around this. \n",
        "\n",
        "1. Extract your data from Python to R for the necessary steps and then return it to Python. Especially if the computations are complex, this may be the best solution and follows a general trend in computer science of using the right tool for the job. \n",
        "\n",
        "2. If the computations are generic, implement them in the current language. In this case we will choose this option. \n",
        "\n",
        "R code: `DGE <- DGEList(counts = count_data, genes = row.names(count_data))`\n",
        "\n",
        "What it does: Stores the date in a standard format for EdgeR\n",
        "\n",
        "How we replicate: Not needed as we won't be using EdgeR\n"
      ]
    },
    {
      "cell_type": "markdown",
      "metadata": {
        "id": "6irFgHecxVdN"
      },
      "source": [
        "R code: `keep <-rowSums(cpm(DGE)>=1) >=4; DGE<-DGE[keep,]`\n",
        "\n",
        "What it does: For each gene (row): sum the values if their cpm is greater than or equal to 1, if the sum is greater than or equal to 4 then keep the geneID in the final data.\n",
        "\n",
        "What `cpm` does: Based on [its documentation](https://www.rdocumentation.org/packages/edgeR/versions/3.14.0/topics/cpm), cpm computes counts per million. When used on a DGEList object, it also uses normalized library sizes in the computation rather than the simple column sums used when the object is a matrix. However, given that we did not provide library sizes in the DGEList constructor, the sum of the column would have been used instead (source: [DGEList documentation](https://rdrr.io/bioc/edgeR/man/DGEList.html))\n",
        "\n",
        "How we replicate: \n",
        "  1. Get cmp equivalent: Divide the count of each cell by the total sum of its column and multiply by one million\n",
        "  2. Apply the same filtering as above"
      ]
    },
    {
      "cell_type": "code",
      "metadata": {
        "id": "XJrN9xBUtDqR"
      },
      "source": [
        "# create a copy of the dataframe to normalize\n",
        "normalized = count_data.copy()\n",
        "\n",
        "# loop through each column performing the normalization\n",
        "for col in normalized.columns:\n",
        "  normalized[col] = count_data[col] / count_data[col].sum() * 1000000\n",
        "\n",
        "normalized.head()\n",
        "\n",
        "# create list of geneIDs to be kept\n",
        "# keeps geneIDs where at least four libraries have cpm counts above 1\n",
        "keep = (normalized >= 1).sum(axis=1) >= 4\n",
        "\n",
        "# filter normalized data\n",
        "normalized = normalized[keep]"
      ],
      "execution_count": null,
      "outputs": []
    },
    {
      "cell_type": "markdown",
      "metadata": {
        "id": "qxoyfcdD9Y99"
      },
      "source": [
        "R code: `DGE <- calcNormFactors(DGE)`\n",
        "\n",
        "What it does: Calculates normalization factors to scale the raw library sizes (Source: [calcNormFactors documentation](https://www.rdocumentation.org/packages/edgeR/versions/3.14.0/topics/calcNormFactors)) Based on [further documentation](https://www.bioconductor.org/packages/release/bioc/vignettes/edgeR/inst/doc/edgeRUsersGuide.pdf) the TMM method is used by default. \n",
        "\n",
        "\"method=\"TMM\" is the weighted trimmed mean of M-values (to the reference) proposed by Robinson and Oshlack (2010), where the weights are from the delta method on Binomial data. If refColumn is unspecified, the library whose upper quartile is closest to the mean upper quartile is used.\" - [calcNormFactors documentation](https://www.rdocumentation.org/packages/edgeR/versions/3.14.0/topics/calcNormFactors)\n",
        "\n",
        "How we replicate: We would want to review the sited paper and replicate the calcuations. \n",
        "\n",
        "However - for brevity, we will keep the base normalization for now. :-)\n"
      ]
    },
    {
      "cell_type": "markdown",
      "metadata": {
        "id": "iglAkKbS_l9c"
      },
      "source": [
        "### f) Boxplot of counts After Filtering Lowly Expressed Genes\n",
        "\n",
        "Create new boxplot with cleaned dataset!"
      ]
    },
    {
      "cell_type": "code",
      "metadata": {
        "id": "QicOQdAZ_nAR",
        "outputId": "497f8221-af5c-4a1e-90dc-d5284855a12d",
        "colab": {
          "base_uri": "https://localhost:8080/",
          "height": 411
        }
      },
      "source": [
        "df_plot = log2(normalized + 1)\n",
        "df_plot.boxplot()\n",
        "plt.title(\"Filterd RNA-Seq Counts\")\n",
        "plt.ylabel(\"log2(CPM+1)\")\n",
        "plt.xticks(rotation=90)\n",
        "plt.show()  # in base-python script, forces plot to show; here it hides additional behind-the-scenes text"
      ],
      "execution_count": null,
      "outputs": [
        {
          "output_type": "display_data",
          "data": {
            "image/png": "[encoded data removed]",
            "text/plain": [
              "<Figure size 432x288 with 1 Axes>"
            ]
          },
          "metadata": {
            "tags": [],
            "needs_background": "light"
          }
        }
      ]
    },
    {
      "cell_type": "markdown",
      "metadata": {
        "id": "Q6g_ZtDcABsp"
      },
      "source": [
        "This looks much better! Now lets pretend that this is the figure we want to help someone recreate in Colab. "
      ]
    },
    {
      "cell_type": "markdown",
      "metadata": {
        "id": "t3wDitcXADO7"
      },
      "source": [
        "With Colab, you can make a copy of this notebook and change the datasource above to re-run with your own datasource!\n"
      ]
    }
  ]
}